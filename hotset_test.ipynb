{
 "cells": [
  {
   "cell_type": "code",
   "execution_count": 3,
   "metadata": {},
   "outputs": [],
   "source": [
    "from eval import *\n",
    "from graph_gen import *"
   ]
  },
  {
   "cell_type": "code",
   "execution_count": 10,
   "metadata": {},
   "outputs": [
    {
     "name": "stdout",
     "output_type": "stream",
     "text": [
      "In an undirected graph, the nodes are numbered from 0 to 24, and the edges are:\n",
      "an edge between node 0 and node 1, an edge between node 0 and node 5, an edge between node 0 and node 6, an edge between node 0 and node 16, an edge between node 0 and node 24, an edge between node 1 and node 16, an edge between node 2 and node 17, an edge between node 2 and node 19, an edge between node 3 and node 16, an edge between node 4 and node 13, an edge between node 4 and node 18, an edge between node 5 and node 10, an edge between node 5 and node 12, an edge between node 5 and node 14, an edge between node 5 and node 22, an edge between node 5 and node 24, an edge between node 6 and node 7, an edge between node 6 and node 14, an edge between node 6 and node 15, an edge between node 6 and node 16, an edge between node 6 and node 21, an edge between node 7 and node 22, an edge between node 8 and node 13, an edge between node 8 and node 19, an edge between node 9 and node 11, an edge between node 9 and node 12, an edge between node 9 and node 24, an edge between node 10 and node 15, an edge between node 10 and node 22, an edge between node 10 and node 24, an edge between node 11 and node 18, an edge between node 11 and node 22, an edge between node 12 and node 19, an edge between node 12 and node 24, an edge between node 13 and node 15, an edge between node 13 and node 17, an edge between node 14 and node 23, an edge between node 14 and node 24, an edge between node 15 and node 16, an edge between node 15 and node 22, an edge between node 15 and node 23, an edge between node 15 and node 24, an edge between node 16 and node 17, an edge between node 16 and node 18, an edge between node 16 and node 19, an edge between node 17 and node 23, an edge between node 18 and node 20, an edge between node 18 and node 21, an edge between node 18 and node 24, an edge between node 21 and node 22\n",
      "Let's construct a graph with the nodes and edges first.\n",
      "In an undirected graph, the nodes are numbered from 0 to 24, and the edges are:\n",
      "an edge between node 0 and node 1, an edge between node 0 and node 5, an edge between node 0 and node 6, an edge between node 0 and node 16, an edge between node 0 and node 24, an edge between node 1 and node 16, an edge between node 2 and node 17, an edge between node 2 and node 19, an edge between node 3 and node 16, an edge between node 4 and node 13, an edge between node 4 and node 18, an edge between node 5 and node 10, an edge between node 5 and node 12, an edge between node 5 and node 14, an edge between node 5 and node 22, an edge between node 5 and node 24, an edge between node 6 and node 7, an edge between node 6 and node 14, an edge between node 6 and node 15, an edge between node 6 and node 16, an edge between node 6 and node 21, an edge between node 7 and node 22, an edge between node 8 and node 13, an edge between node 8 and node 19, an edge between node 9 and node 11, an edge between node 9 and node 12, an edge between node 9 and node 24, an edge between node 10 and node 15, an edge between node 10 and node 22, an edge between node 10 and node 24, an edge between node 11 and node 18, an edge between node 11 and node 22, an edge between node 12 and node 19, an edge between node 12 and node 24, an edge between node 13 and node 15, an edge between node 13 and node 17, an edge between node 14 and node 23, an edge between node 14 and node 24, an edge between node 15 and node 16, an edge between node 15 and node 22, an edge between node 15 and node 23, an edge between node 15 and node 24, an edge between node 16 and node 17, an edge between node 16 and node 18, an edge between node 16 and node 19, an edge between node 17 and node 23, an edge between node 18 and node 20, an edge between node 18 and node 21, an edge between node 18 and node 24, an edge between node 21 and node 22\n",
      "Let's construct a graph with the nodes and edges first.Now, I will give you some historical paths.\n",
      "path: (23, 17, 13, 15, 10, 22, 7, 6, 16, 0, 24, 18, 20) freq: 7\n",
      "path: (10, 5, 24, 12, 9, 11, 18, 21, 6, 7, 22, 15, 13, 8, 19, 16, 0, 1) freq: 3\n",
      "path: (4, 13, 17, 23, 15, 6, 21, 22, 5, 12, 9, 24, 0, 16) freq: 6\n",
      "path: (12, 24, 10, 15, 13, 17, 23, 14, 6, 0, 16, 18, 11, 9) freq: 6\n",
      "path: (11, 9, 12, 19, 2, 17, 23, 15, 13, 4, 18, 16, 0, 6, 21, 22, 10, 5, 24) freq: 7\n",
      "path: (9, 12, 24, 10, 5, 14, 23, 17, 2, 19, 16, 18, 11, 22, 7, 6, 15, 13, 8) freq: 1\n",
      "path: (20, 18, 11, 22, 10, 24, 9, 12, 19, 16, 15, 23, 14, 6, 21) freq: 8\n",
      "path: (19, 12, 9, 24, 5, 10, 15, 6, 21, 18, 16, 3) freq: 7\n",
      "path: (17, 13, 4, 18, 16, 1, 0, 24, 14, 23, 15, 6, 7, 22, 11, 9, 12, 5) freq: 4\n",
      "path: (19, 12, 9, 24, 14, 23, 17, 16, 1, 0, 5, 10, 15, 6, 7, 22, 11, 18, 4, 13) freq: 6\n",
      "path: (2, 17, 16, 15, 6, 7, 22, 5, 10, 24, 18) freq: 3\n",
      "path: (5, 24, 10, 15, 6, 0, 1, 16, 19, 2, 17) freq: 4\n",
      "path: (11, 18, 16, 0, 6, 7) freq: 6\n",
      "path: (10, 15, 22, 21, 6, 0, 16, 17, 13, 8, 19, 12, 5) freq: 3\n",
      "path: (7, 22, 21, 18, 11, 9, 12, 24, 0, 5, 10, 15, 23, 17, 13, 8, 19, 2) freq: 1\n",
      "path: (5, 24, 18, 4, 13, 15, 16, 6, 14, 23, 17, 2, 19, 12, 9, 11) freq: 4\n",
      "path: (1, 0, 6, 14, 5, 10, 22, 11, 9, 12, 24, 15, 23, 17, 16, 18, 4) freq: 5\n",
      "path: (0, 5, 10, 24, 9, 11, 18, 21, 22, 15, 13, 4) freq: 10\n",
      "path: (0, 24, 5, 22, 7, 6, 21, 18, 16, 15, 13, 8, 19, 2, 17, 23, 14) freq: 6\n",
      "path: (18, 16, 19, 8, 13, 15, 23, 14, 24, 12, 5, 10, 22, 21, 6, 7) freq: 5\n",
      "path: (17, 2, 19, 12, 9, 11, 18, 21, 22, 10, 24, 15, 16, 6, 14, 23) freq: 3\n",
      "path: (23, 17, 2, 19, 12, 9, 24, 10, 15, 13, 4, 18, 21, 22, 5, 14, 6, 16, 1, 0) freq: 3\n",
      "path: (23, 17, 2, 19, 8, 13, 4, 18, 11, 22, 15, 6, 16, 0, 24, 5, 14) freq: 5\n",
      "path: (0, 16, 19, 8, 13, 17, 23, 14, 6, 7, 22, 5, 10, 15, 24, 9, 11, 18) freq: 5\n",
      "path: (23, 14, 6, 15, 22, 11, 9, 24, 10, 5, 12, 19, 2, 17, 16, 18) freq: 5\n",
      "path: (12, 19, 8, 13, 4, 18, 16, 0, 5, 22, 10, 24, 14, 6, 15, 23, 17) freq: 9\n",
      "path: (9, 11, 22, 21, 6, 15, 10, 24, 5, 0, 16, 19, 8, 13, 17, 2) freq: 5\n",
      "path: (18, 21, 6, 16, 15, 24, 9, 11, 22, 10, 5, 12, 19, 2, 17) freq: 6\n",
      "path: (0, 16, 17, 13, 15, 10, 24, 18, 21, 22, 11, 9, 12, 5, 14, 6, 7) freq: 5\n",
      "path: (8, 13, 15, 16, 0, 6, 14, 24, 5, 12, 9, 11, 22, 21, 18, 20) freq: 1\n",
      "path: (15, 13, 4, 18, 24, 10, 5, 14, 23, 17, 2, 19, 12, 9, 11, 22, 7, 6, 0, 16, 3) freq: 5\n",
      "path: (2, 19, 8, 13, 17, 23, 15, 10, 5, 22, 7, 6, 16, 18, 24) freq: 5\n",
      "path: (7, 6, 14, 23, 17, 13, 8, 19, 16, 1, 0, 5, 12, 9, 11, 22, 15) freq: 7\n",
      "path: (0, 6, 14, 23, 17, 13, 8, 19, 12, 9, 24, 10, 15, 22, 11, 18) freq: 1\n",
      "path: (23, 17, 13, 8, 19, 16, 1, 0, 24, 14, 6, 21, 18, 11, 9, 12, 5) freq: 6\n",
      "path: (19, 8, 13, 17, 23, 14, 6, 21, 22, 11, 9, 24, 5, 0, 16) freq: 7\n",
      "path: (13, 15, 22, 11, 18, 21, 6, 14, 23, 17, 16, 19, 12, 24, 5, 0, 1) freq: 2\n",
      "path: (13, 4, 18, 16, 1, 0, 6, 14, 5, 22, 11, 9, 24, 10, 15) freq: 6\n",
      "path: (21, 6, 7, 22, 15, 24, 14, 23, 17, 13, 8, 19, 16, 18, 11, 9, 12, 5, 0, 1) freq: 4\n",
      "path: (9, 11, 18, 21, 6, 0, 16, 17, 13, 15, 23, 14, 5, 10, 24, 12, 19, 2) freq: 4\n",
      "path: (22, 21, 6, 0, 5, 24, 10, 15, 16, 19, 12, 9, 11, 18) freq: 4\n",
      "path: (7, 22, 10, 24, 14, 5, 0, 16, 17, 2, 19, 8, 13, 4, 18) freq: 6\n",
      "path: (4, 18, 11, 9, 12, 5, 24, 14, 23, 17, 13, 15, 10, 22, 21, 6, 0, 1) freq: 5\n",
      "path: (22, 5, 14, 23, 17, 2, 19, 8, 13, 15, 16, 6, 21, 18, 24, 10) freq: 4\n",
      "path: (10, 15, 16, 0, 6, 21, 22, 5, 14, 24, 12, 19, 8, 13, 4, 18, 20) freq: 3\n",
      "path: (17, 13, 4, 18, 16, 0, 24, 12, 5, 10, 15, 23, 14, 6, 21) freq: 5\n",
      "path: (14, 5, 12, 19, 8, 13, 17, 16, 6, 7, 22, 15, 24, 0) freq: 3\n",
      "path: (4, 18, 21, 22, 10, 15, 6, 14, 24, 9, 12, 5) freq: 4\n",
      "path: (6, 15, 13, 17, 16, 0, 5, 14, 24, 10, 22, 11, 9) freq: 8\n",
      "path: (17, 23, 15, 13, 8, 19, 12, 9, 11, 18, 21, 22, 7, 6, 16) freq: 4\n",
      "path: (16, 17, 2, 19, 8, 13, 4, 18, 11, 9, 12, 24, 14, 23, 15, 10, 22, 5, 0, 1) freq: 5\n",
      "path: (4, 13, 8, 19, 16, 17, 23, 15, 22, 21, 6, 14, 5, 0, 24, 9) freq: 9\n",
      "path: (15, 24, 9, 12, 5, 0, 1, 16, 19, 2, 17, 23, 14, 6, 7) freq: 9\n",
      "path: (21, 18, 24, 10, 22, 7, 6, 0, 5, 12, 19, 8, 13, 4) freq: 7\n",
      "path: (17, 2, 19, 16, 1, 0, 5, 10, 15, 6, 7, 22, 11, 9, 12, 24, 14) freq: 8\n",
      "path: (11, 18, 4, 13, 15, 24, 10, 22, 7, 6, 16, 17) freq: 6\n",
      "path: (24, 10, 5, 22, 21, 6, 0, 16, 19, 8, 13, 15) freq: 5\n",
      "path: (5, 14, 24, 9, 12, 19, 8, 13, 17, 23, 15, 16, 6, 7, 22, 10) freq: 5\n",
      "path: (12, 24, 15, 13, 17, 23, 14, 5, 10, 22, 21, 6, 16, 18, 11, 9) freq: 5\n",
      "path: (14, 23, 15, 13, 8, 19, 16, 18, 21, 6, 7, 22, 11, 9, 24, 5) freq: 1\n",
      "path: (14, 23, 15, 13, 4, 18, 21, 22, 10, 24, 12, 5, 0, 16, 1) freq: 2\n",
      "path: (10, 24, 12, 19, 8, 13, 17, 16, 0, 6, 7, 22) freq: 7\n",
      "path: (15, 16, 6, 14, 5, 10, 24, 9, 11, 22, 21, 18, 4, 13, 8, 19, 2) freq: 1\n",
      "path: (7, 6, 15, 13, 17, 2, 19, 12, 5, 0, 1) freq: 7\n",
      "path: (20, 18, 11, 9, 24, 14, 5, 0, 1, 16, 19, 2, 17) freq: 6\n",
      "path: (19, 16, 1, 0, 24, 10, 5, 14, 23, 15, 6, 7, 22, 21, 18) freq: 3\n",
      "path: (9, 11, 22, 5, 10, 24, 0, 16, 6, 14, 23, 17, 13, 4, 18, 21) freq: 7\n",
      "path: (20, 18, 11, 22, 5, 14, 6, 0, 16, 15, 13, 8, 19, 12, 9, 24) freq: 2\n",
      "path: (1, 16, 6, 21, 18, 11, 22, 5, 12, 24, 10, 15) freq: 6\n",
      "path: (4, 13, 15, 23, 14, 6, 16, 17, 2, 19, 12, 9, 11, 22, 21, 18, 24, 10, 5, 0, 1) freq: 5\n",
      "path: (3, 16, 19, 12, 9, 24, 18, 11, 22, 10, 5, 14, 23) freq: 4\n",
      "path: (6, 7, 22, 11, 18, 4, 13, 17, 2, 19, 12, 9, 24, 0, 5, 14, 23, 15, 16, 1) freq: 6\n",
      "path: (6, 14, 23, 17, 16, 1, 0, 5, 22, 11, 9, 24, 18, 4, 13, 8, 19, 2) freq: 5\n",
      "path: (6, 7, 22, 11, 18, 16, 19, 12, 24, 5, 10, 15) freq: 5\n",
      "path: (14, 23, 15, 10, 22, 5, 12, 24, 9, 11, 18, 4, 13, 8, 19, 16, 6, 0) freq: 6\n",
      "path: (0, 16, 17, 2, 19, 12, 9, 11, 22, 7, 6, 15, 24, 10) freq: 3\n",
      "path: (5, 14, 23, 17, 2, 19, 16, 15, 6, 21, 22, 11, 9, 12, 24, 18, 4, 13, 8) freq: 6\n",
      "path: (14, 5, 24, 18, 4, 13, 15, 23, 17, 16, 19) freq: 7\n",
      "path: (24, 10, 22, 5, 12, 19, 16, 17, 23, 15, 6, 21, 18, 4, 13, 8) freq: 5\n",
      "path: (17, 13, 15, 6, 14, 5, 0, 1, 16, 19, 12, 9, 24, 10, 22) freq: 1\n",
      "path: (6, 14, 5, 0, 24, 10, 22, 21, 18, 11, 9, 12, 19, 8, 13, 17, 16, 15) freq: 3\n",
      "path: (1, 16, 19, 8, 13, 15, 10, 22, 11, 9, 12, 5, 14, 6, 21, 18, 24) freq: 4\n",
      "path: (23, 17, 2, 19, 12, 24, 9, 11, 18, 4, 13, 15, 22, 10, 5, 0, 1, 16, 6, 14) freq: 5\n",
      "path: (11, 22, 21, 6, 16, 19, 8, 13, 17, 23, 14, 5, 12, 9, 24, 15) freq: 9\n",
      "path: (18, 11, 22, 10, 5, 0, 6, 14, 24, 15, 23, 17) freq: 5\n",
      "path: (0, 5, 10, 22, 15, 13, 8, 19, 16, 6, 14, 24, 12, 9) freq: 6\n",
      "path: (3, 16, 0, 5, 12, 19, 8, 13, 17, 23, 15, 22, 11, 9, 24) freq: 6\n",
      "path: (23, 15, 13, 4, 18, 11, 22, 5, 12, 9, 24, 0, 16, 6, 21) freq: 2\n",
      "path: (16, 0, 6, 21, 22, 11, 9, 12, 19, 2, 17, 23, 14, 24, 15, 13, 4, 18, 20) freq: 5\n",
      "path: (12, 5, 10, 22, 11, 9, 24, 18, 4, 13, 8, 19, 2, 17, 23, 15, 16) freq: 6\n",
      "path: (24, 9, 11, 18, 21, 6, 7, 22, 5, 0, 1, 16, 3) freq: 4\n",
      "path: (12, 5, 24, 15, 16, 0, 6, 21, 18, 4, 13, 8, 19, 2, 17, 23) freq: 5\n",
      "path: (13, 15, 23, 17, 2, 19, 16, 0, 5, 12, 9, 24, 14, 6, 21, 18, 11, 22, 10) freq: 7\n",
      "path: (0, 24, 9, 12, 19, 2, 17, 23, 15, 6, 16, 18, 11, 22, 5, 14) freq: 7\n",
      "\n"
     ]
    }
   ],
   "source": [
    "graph = generate_graph(25, 50)\n",
    "prompt = describe_graph(graph, GraphPrompt.Build_A_Graph)\n",
    "print(prompt)\n",
    "graph_path = generate_randomly_distributed_path(graph, 100, ProbabilityDistribution.Normal)\n",
    "prompt += \"Now, I will give you some historical paths.\\n\"\n",
    "for path, freq in graph_path.items():\n",
    "    prompt += \"path: \" + str(path) + \" freq: \" + str(freq) + \"\\n\"\n",
    "print(prompt)\n"
   ]
  },
  {
   "cell_type": "code",
   "execution_count": 11,
   "metadata": {},
   "outputs": [
    {
     "name": "stdout",
     "output_type": "stream",
     "text": [
      "Word count: 2187\n"
     ]
    }
   ],
   "source": [
    "word_count = len(prompt.split())\n",
    "print(\"Word count:\", word_count)"
   ]
  },
  {
   "cell_type": "code",
   "execution_count": null,
   "metadata": {},
   "outputs": [],
   "source": []
  }
 ],
 "metadata": {
  "kernelspec": {
   "display_name": "environment",
   "language": "python",
   "name": "python3"
  },
  "language_info": {
   "codemirror_mode": {
    "name": "ipython",
    "version": 3
   },
   "file_extension": ".py",
   "mimetype": "text/x-python",
   "name": "python",
   "nbconvert_exporter": "python",
   "pygments_lexer": "ipython3",
   "version": "3.10.12"
  }
 },
 "nbformat": 4,
 "nbformat_minor": 2
}
