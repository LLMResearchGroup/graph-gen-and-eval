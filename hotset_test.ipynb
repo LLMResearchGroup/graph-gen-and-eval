{
 "cells": [
  {
   "cell_type": "code",
   "execution_count": 25,
   "metadata": {},
   "outputs": [],
   "source": [
    "from eval import *\n",
    "from graph_gen import *"
   ]
  },
  {
   "cell_type": "code",
   "execution_count": 26,
   "metadata": {},
   "outputs": [
    {
     "name": "stdout",
     "output_type": "stream",
     "text": [
      "In an undirected graph, the nodes are numbered from 0 to 24, and the edges are:\n",
      "an edge between node 0 and node 9, an edge between node 0 and node 10, an edge between node 0 and node 11, an edge between node 0 and node 22, an edge between node 0 and node 24, an edge between node 1 and node 16, an edge between node 2 and node 3, an edge between node 2 and node 19, an edge between node 3 and node 6, an edge between node 3 and node 9, an edge between node 3 and node 15, an edge between node 4 and node 7, an edge between node 4 and node 8, an edge between node 4 and node 10, an edge between node 4 and node 11, an edge between node 4 and node 14, an edge between node 4 and node 15, an edge between node 4 and node 21, an edge between node 5 and node 7, an edge between node 5 and node 12, an edge between node 5 and node 16, an edge between node 5 and node 18, an edge between node 5 and node 19, an edge between node 5 and node 20, an edge between node 6 and node 13, an edge between node 6 and node 16, an edge between node 7 and node 15, an edge between node 7 and node 16, an edge between node 7 and node 21, an edge between node 8 and node 9, an edge between node 8 and node 14, an edge between node 8 and node 16, an edge between node 8 and node 22, an edge between node 9 and node 10, an edge between node 9 and node 13, an edge between node 9 and node 16, an edge between node 9 and node 22, an edge between node 10 and node 23, an edge between node 10 and node 24, an edge between node 11 and node 15, an edge between node 11 and node 18, an edge between node 11 and node 23, an edge between node 12 and node 18, an edge between node 12 and node 22, an edge between node 12 and node 23, an edge between node 14 and node 15, an edge between node 14 and node 19, an edge between node 14 and node 23, an edge between node 15 and node 20, an edge between node 17 and node 23\n",
      "Let's construct a graph with the nodes and edges first.\n",
      "In an undirected graph, the nodes are numbered from 0 to 24, and the edges are:\n",
      "an edge between node 0 and node 9, an edge between node 0 and node 10, an edge between node 0 and node 11, an edge between node 0 and node 22, an edge between node 0 and node 24, an edge between node 1 and node 16, an edge between node 2 and node 3, an edge between node 2 and node 19, an edge between node 3 and node 6, an edge between node 3 and node 9, an edge between node 3 and node 15, an edge between node 4 and node 7, an edge between node 4 and node 8, an edge between node 4 and node 10, an edge between node 4 and node 11, an edge between node 4 and node 14, an edge between node 4 and node 15, an edge between node 4 and node 21, an edge between node 5 and node 7, an edge between node 5 and node 12, an edge between node 5 and node 16, an edge between node 5 and node 18, an edge between node 5 and node 19, an edge between node 5 and node 20, an edge between node 6 and node 13, an edge between node 6 and node 16, an edge between node 7 and node 15, an edge between node 7 and node 16, an edge between node 7 and node 21, an edge between node 8 and node 9, an edge between node 8 and node 14, an edge between node 8 and node 16, an edge between node 8 and node 22, an edge between node 9 and node 10, an edge between node 9 and node 13, an edge between node 9 and node 16, an edge between node 9 and node 22, an edge between node 10 and node 23, an edge between node 10 and node 24, an edge between node 11 and node 15, an edge between node 11 and node 18, an edge between node 11 and node 23, an edge between node 12 and node 18, an edge between node 12 and node 22, an edge between node 12 and node 23, an edge between node 14 and node 15, an edge between node 14 and node 19, an edge between node 14 and node 23, an edge between node 15 and node 20, an edge between node 17 and node 23\n",
      "Let's construct a graph with the nodes and edges first.Now, I will give you some historical paths.\n",
      "path: (2, 3, 9, 0, 11, 4, 21, 7, 16, 8, 14, 23, 12, 18, 5, 20) freq: 7\n",
      "path: (21, 7, 16, 8, 9, 0, 24, 10, 23, 11, 4, 14, 19, 2, 3, 15, 20, 5, 12) freq: 6\n",
      "path: (21, 7, 5, 19, 2, 3, 6, 16, 9, 0, 10, 4, 15, 11, 18, 12, 22, 8, 14, 23, 17) freq: 8\n",
      "path: (13, 6, 16, 7, 5, 12, 18, 11, 23, 14, 19, 2, 3, 15, 4, 8, 9) freq: 8\n",
      "path: (7, 16, 9, 8, 4, 14, 23, 10, 0, 22, 12, 18, 11, 15, 3) freq: 6\n",
      "path: (13, 9, 3, 6, 16, 7, 15, 20, 5, 12, 18, 11, 23, 10, 4, 14, 8, 22) freq: 5\n",
      "path: (21, 4, 14, 23, 11, 18, 12, 5, 16, 9, 13, 6) freq: 5\n",
      "path: (4, 8, 14, 15, 11, 0, 9, 3, 2, 19, 5, 12, 23, 10) freq: 7\n",
      "path: (0, 11, 18, 5, 20, 15, 7, 4, 14, 23, 10, 9, 16, 6, 3, 2) freq: 6\n",
      "path: (12, 18, 5, 7, 16, 6, 3, 15, 14, 8, 22, 0, 9, 10, 23, 11) freq: 4\n",
      "path: (6, 3, 2, 19, 14, 15, 4, 10, 0, 9, 22, 12, 23, 11, 18, 5, 16, 7) freq: 6\n",
      "path: (4, 11, 18, 12, 23, 10, 0, 22, 9, 3, 15, 7, 5, 19, 14, 8) freq: 3\n",
      "path: (12, 18, 11, 15, 3, 2, 19, 14, 8, 22, 9, 16, 5, 7, 21, 4, 10, 24, 0) freq: 4\n",
      "path: (8, 16, 6, 3, 9, 0, 22, 12, 5, 20, 15, 7, 4, 10, 24) freq: 2\n",
      "path: (12, 18, 5, 20, 15, 11, 4, 14, 8, 22, 9, 13, 6) freq: 7\n",
      "path: (2, 19, 5, 16, 8, 4, 15, 11, 18, 12, 22, 0, 24, 10, 9, 13, 6, 3) freq: 7\n",
      "path: (19, 2, 3, 9, 13, 6, 16, 5, 7, 21, 4, 11, 23, 14, 8, 22, 0) freq: 5\n",
      "path: (2, 19, 5, 18, 12, 23, 14, 4, 8, 16, 6, 3, 15, 11, 0, 22, 9) freq: 9\n",
      "path: (5, 18, 11, 23, 14, 19, 2, 3, 15, 4, 21, 7, 16, 6, 13, 9, 8, 22, 0, 24) freq: 6\n",
      "path: (0, 22, 8, 16, 5, 12, 23, 10, 4, 21, 7, 15, 3) freq: 6\n",
      "path: (3, 6, 13, 9, 8, 16, 7, 5, 20, 15, 14, 23, 11) freq: 5\n",
      "path: (24, 0, 22, 12, 18, 11, 23, 14, 4, 7, 15, 20, 5, 19, 2, 3, 6) freq: 1\n",
      "path: (9, 0, 24, 10, 23, 11, 18, 12, 22, 8, 14, 19, 5, 16, 7, 15, 4, 21) freq: 8\n",
      "path: (11, 4, 21, 7, 5, 20, 15, 3, 6, 13, 9, 22, 0, 24, 10, 23, 12, 18) freq: 2\n",
      "path: (8, 4, 21, 7, 5, 18, 11, 15, 14, 23, 12, 22, 9, 3) freq: 2\n",
      "path: (15, 4, 11, 23, 10, 24, 0, 9, 3, 2, 19, 14, 8, 22, 12, 18, 5, 7, 16, 6) freq: 7\n",
      "path: (23, 17) freq: 7\n",
      "path: (5, 20, 15, 14, 8, 16, 7, 4, 11, 18, 12, 22, 9, 0, 24, 10, 23, 17) freq: 5\n",
      "path: (2, 3, 6, 16, 9, 10, 23, 14, 15, 20, 5, 7, 21, 4, 11, 18, 12, 22, 0) freq: 5\n",
      "path: (0, 10, 4, 21, 7, 15, 14, 8, 16, 5, 19, 2, 3, 6, 13, 9, 22, 12, 18) freq: 4\n",
      "path: (2, 3, 6, 16, 9, 8, 4, 7, 15, 14, 19, 5, 18, 11) freq: 9\n",
      "path: (23, 14, 19, 5, 7, 15, 4, 11, 0, 22, 9, 3, 6, 16, 8) freq: 4\n",
      "path: (22, 9, 0, 11, 18, 12, 5, 19, 14, 4, 7, 16) freq: 6\n",
      "path: (7, 21, 4, 11, 15, 20, 5, 18, 12, 23, 10, 0, 22, 9, 16, 8, 14, 19, 2, 3, 6, 13) freq: 5\n",
      "path: (2, 19, 14, 4, 15, 11, 0, 10, 23, 12, 5, 7, 16, 6, 3) freq: 7\n",
      "path: (22, 12, 23, 11, 15, 14, 19, 5, 7, 4, 10, 24, 0, 9, 13) freq: 4\n",
      "path: (19, 14, 15, 3, 6, 13, 9, 8, 16, 7, 5, 12, 22, 0, 10, 4) freq: 7\n",
      "path: (6, 3, 15, 11, 0, 22, 12, 23, 10, 9, 8, 14, 4, 7, 5) freq: 2\n",
      "path: (24, 10, 23, 11, 0, 22, 12, 5, 7, 16, 9, 8, 4) freq: 5\n",
      "path: (12, 22, 8, 4, 11, 15, 20, 5, 7, 16, 9, 3, 2, 19, 14, 23, 17) freq: 3\n",
      "path: (7, 15, 20, 5, 18, 12, 22, 9, 13, 6, 16, 8, 4, 10, 24, 0, 11, 23, 14, 19, 2, 3) freq: 5\n",
      "path: (1, 16) freq: 5\n",
      "path: (10, 0, 9, 22, 8, 14, 15, 4, 21, 7, 5, 18, 12, 23, 17) freq: 5\n",
      "path: (5, 12, 23, 11, 4, 15, 14, 8, 16, 6, 13, 9) freq: 6\n",
      "path: (5, 18, 12, 22, 0, 24, 10, 9, 13, 6, 16, 8, 14, 4, 7, 15) freq: 4\n",
      "path: (14, 19, 5, 20, 15, 4, 11, 0, 24, 10, 23, 12, 22, 8, 16, 6, 3, 2) freq: 3\n",
      "path: (23, 11, 18, 12, 22, 8, 14, 15, 3, 2, 19, 5, 16, 7, 4, 10, 24, 0) freq: 4\n",
      "path: (16, 8, 14, 23, 11, 4, 21, 7, 5, 18, 12, 22, 0, 9, 3, 2) freq: 5\n",
      "path: (17, 23, 11, 0, 22, 12, 18, 5, 16, 7, 21, 4, 14) freq: 8\n",
      "path: (20, 15, 11, 0, 10, 23, 14, 8, 16, 5, 19, 2, 3, 9) freq: 3\n",
      "path: (14, 8, 4, 7, 5, 12, 23, 10, 24, 0, 22) freq: 5\n",
      "path: (19, 14, 15, 20, 5, 16, 7, 4, 10, 9, 22, 0, 11, 23, 12) freq: 2\n",
      "path: (24, 10, 23, 12, 18, 5, 20, 15, 3, 9, 16, 7, 4, 11, 0, 22, 8) freq: 5\n",
      "path: (13, 6, 16, 7, 4, 10, 0, 11, 18, 12, 5, 20, 15, 3, 9, 8, 14, 19, 2) freq: 4\n",
      "path: (23, 12, 18, 5, 16, 7, 4, 10, 9, 0, 11, 15, 3) freq: 4\n",
      "path: (1, 16, 8, 9, 10, 23, 11, 18, 5, 7, 4, 15, 3, 6, 13) freq: 9\n",
      "path: (1, 16, 7, 21, 4, 10, 9, 0, 11, 18, 5, 12, 22, 8, 14, 19, 2) freq: 6\n",
      "path: (14, 4, 7, 15, 11, 18, 12, 22, 8, 9, 3, 6, 16) freq: 3\n",
      "path: (4, 8, 9, 22, 12, 18, 5, 20, 15, 7, 16) freq: 6\n",
      "path: (14, 15, 3, 2, 19, 5, 12, 22, 9, 16, 7, 4, 11, 23, 10, 24) freq: 7\n",
      "path: (10, 0, 11, 4, 14, 8, 9, 16, 6, 3, 2, 19, 5, 20) freq: 3\n",
      "path: (10, 24, 0, 22, 12, 5, 19, 14, 23, 11, 4, 15, 7, 16, 6, 13, 9, 3) freq: 4\n",
      "path: (11, 0, 22, 12, 5, 20, 15, 14, 8, 9, 13, 6, 16, 7, 4, 10, 23, 17) freq: 6\n",
      "path: (4, 8, 14, 15, 20, 5, 18, 11, 0, 10, 23, 12, 22, 9, 3, 2, 19) freq: 7\n",
      "path: (17, 23, 11, 4, 10, 9, 3, 2, 19, 14, 8, 22, 12, 5, 20, 15, 7, 16) freq: 10\n",
      "path: (12, 5, 19, 14, 4, 15, 11, 0, 22, 9, 3, 6, 16, 1) freq: 4\n",
      "path: (10, 9, 8, 22, 12, 5, 20, 15, 11, 23, 14, 19, 2, 3, 6, 13) freq: 9\n",
      "path: (6, 3, 9, 0, 24, 10, 4, 21, 7, 15, 20, 5, 18, 12, 22, 8, 14, 23) freq: 6\n",
      "path: (17, 23) freq: 6\n",
      "path: (7, 16, 5, 19, 14, 23, 11, 0, 24, 10, 4, 15, 3, 2) freq: 4\n",
      "path: (0, 11, 4, 15, 20, 5, 16, 6, 13, 9, 3, 2, 19, 14, 23, 10, 24) freq: 6\n",
      "path: (8, 22, 0, 24, 10, 9, 13, 6, 3, 15, 11, 23, 14, 19, 5) freq: 6\n",
      "path: (20, 15, 11, 18, 12, 5, 19, 2, 3, 6, 13, 9, 10, 0, 22) freq: 7\n",
      "path: (21, 4, 10, 24, 0, 11, 15, 7, 16, 6, 13, 9, 8, 14, 19, 5, 12, 23) freq: 8\n",
      "path: (12, 18, 5, 16, 7, 4, 10, 23, 11, 0, 9, 8, 22) freq: 3\n",
      "path: (22, 0, 9, 8, 4, 14, 15, 20, 5, 19) freq: 4\n",
      "path: (21, 4, 10, 0, 9, 13, 6, 3, 15, 20, 5, 12, 22, 8, 14, 23, 17) freq: 3\n",
      "path: (24, 10, 0, 9, 22, 12, 5, 16, 8, 14, 4) freq: 3\n",
      "path: (11, 0, 24, 10, 4, 15, 3, 2, 19, 5, 7, 16, 8, 9, 22, 12, 23) freq: 8\n",
      "path: (21, 7, 15, 3, 9, 8, 4, 14, 23, 10, 24, 0, 22, 12, 5, 16, 1) freq: 6\n",
      "path: (4, 14, 15, 11, 0, 10, 23, 12, 18, 5, 7, 16, 6, 13, 9) freq: 6\n",
      "path: (5, 18, 12, 22, 9, 10, 24, 0, 11, 4, 8, 14, 19, 2, 3, 15, 7, 16) freq: 4\n",
      "path: (18, 5, 7, 4, 11, 0, 24, 10, 23, 14, 8, 22, 9) freq: 1\n",
      "path: (14, 15, 20, 5, 7, 4, 10, 9, 0, 11) freq: 6\n",
      "path: (2, 19, 14, 8, 16, 6, 3, 9, 10, 4, 7, 15, 20) freq: 6\n",
      "path: (7, 15, 11, 18, 12, 22, 0, 24, 10, 23, 14, 8, 9, 3, 6, 16, 5, 19, 2) freq: 6\n",
      "path: (16, 5, 20, 15, 7, 21, 4, 11, 18, 12, 23, 10, 0, 22, 8, 9, 3, 2, 19) freq: 7\n",
      "path: (18, 12, 5, 19, 2, 3, 9, 13, 6, 16, 7, 21, 4, 10, 23, 14, 15, 11) freq: 8\n",
      "path: (8, 16, 7, 4, 15, 3, 2, 19, 5, 18, 11, 0, 22) freq: 6\n",
      "path: (11, 15, 20, 5, 18, 12, 22, 9, 8, 4, 14, 23, 10) freq: 9\n",
      "path: (6, 16, 8, 22, 0, 9, 3, 15, 7, 4, 14, 19, 5, 18, 12, 23, 10) freq: 5\n",
      "path: (16, 6, 13, 9, 0, 24, 10, 23, 14, 8, 22) freq: 4\n",
      "path: (9, 13, 6, 3, 2, 19, 14, 8, 22, 0, 10, 23, 11, 18, 12, 5, 16, 7, 15, 4) freq: 8\n",
      "path: (20, 15, 14, 19, 2, 3, 6, 16, 9, 8, 4, 7, 5, 18, 11, 0, 22, 12, 23, 17) freq: 6\n",
      "path: (18, 5, 12, 23, 10, 0, 11, 15, 7, 21, 4, 8, 14, 19, 2, 3, 6, 13, 9) freq: 6\n",
      "\n"
     ]
    }
   ],
   "source": [
    "graph = generate_graph(25, 50)\n",
    "prompt = describe_graph(graph, GraphPrompt.Build_A_Graph)\n",
    "print(prompt)\n",
    "graph_path = generate_randomly_distributed_path(graph, 100, ProbabilityDistribution.Normal)\n",
    "prompt += \"Now, I will give you some historical paths.\\n\"\n",
    "for path, freq in graph_path.items():\n",
    "    prompt += \"path: \" + str(path) + \" freq: \" + str(freq) + \"\\n\"\n",
    "print(prompt)\n",
    "graph_info = prompt\n"
   ]
  },
  {
   "cell_type": "code",
   "execution_count": 27,
   "metadata": {},
   "outputs": [
    {
     "name": "stdout",
     "output_type": "stream",
     "text": [
      "Word count: 2190\n"
     ]
    }
   ],
   "source": [
    "word_count = len(prompt.split())\n",
    "print(\"Word count:\", word_count)"
   ]
  },
  {
   "cell_type": "code",
   "execution_count": 28,
   "metadata": {},
   "outputs": [],
   "source": [
    "import random, openai, os, time, json, datetime\n",
    "from dotenv import load_dotenv\n",
    "load_dotenv()\n",
    "openai.api_key = os.getenv(\"OPENAI\")"
   ]
  },
  {
   "cell_type": "code",
   "execution_count": 68,
   "metadata": {},
   "outputs": [],
   "source": [
    "modified_prompt = graph_info\n",
    "modified_prompt += \"Q: From this paths, try to figure out the sets of nodes that are visited frequently together. just write out the sets. A: \""
   ]
  },
  {
   "cell_type": "code",
   "execution_count": 67,
   "metadata": {},
   "outputs": [
    {
     "name": "stdout",
     "output_type": "stream",
     "text": [
      "To find a popular path of length no more than 10 from node 0 to node 5, we can use the given historical paths to identify the most frequent path that satisfies the criteria.\n",
      "\n",
      "After analyzing the historical paths, we find that the path with the highest frequency and a length of no more than 10 from node 0 to node 5 is:\n",
      "\n",
      "Path: (0, 11, 4, 15, 20, 5)\n",
      "Frequency: 6\n",
      "\n",
      "Therefore, the popular path from node 0 to node 5 is (0, 11, 4, 15, 20, 5) with a frequency of 6.\n"
     ]
    }
   ],
   "source": [
    "prompt = graph_info\n",
    "prompt += \"Q: Find a popular path of length no more than 10 from 0 to 5. Only one path is enough \\nA: \"\n",
    "response = openai.ChatCompletion.create(\n",
    "    model=\"gpt-3.5-turbo-1106\",\n",
    "    temperature=0.1,\n",
    "    messages=[\n",
    "        {\"role\": \"system\", \"content\": \"Think step by step.\"},\n",
    "        {\"role\": \"user\", \"content\": prompt},\n",
    "    ],\n",
    ")\n",
    "response = response.choices[0].message.content\n",
    "print(response)\n"
   ]
  },
  {
   "cell_type": "code",
   "execution_count": 46,
   "metadata": {},
   "outputs": [
    {
     "name": "stdout",
     "output_type": "stream",
     "text": [
      "(0, 11, 18, 12, 5)\n"
     ]
    }
   ],
   "source": [
    "response += \"Q: Only write out the path from the response in this format (0, 1, 2, 3, 4, 5) \\nA: \"\n",
    "formatted_response = openai.ChatCompletion.create(\n",
    "    model=\"gpt-3.5-turbo-1106\",\n",
    "    temperature=0.1,\n",
    "    messages=[\n",
    "        {\"role\": \"system\", \"content\": \"Think step by step.\"},\n",
    "        {\"role\": \"user\", \"content\": response},\n",
    "    ],\n",
    ")\n",
    "formatted_response = formatted_response.choices[0].message.content\n",
    "print(formatted_response)"
   ]
  },
  {
   "cell_type": "code",
   "execution_count": 71,
   "metadata": {},
   "outputs": [
    {
     "name": "stdout",
     "output_type": "stream",
     "text": [
      "From the given paths, we can identify the sets of nodes that are frequently visited together. Here are the sets of nodes:\n",
      "\n",
      "1. {2, 3, 9, 0, 11, 4, 21, 7, 16, 8, 14, 23, 12, 18, 5, 20}\n",
      "2. {21, 7, 16, 8, 9, 0, 24, 10, 23, 11, 4, 14, 19, 2, 3, 15, 20, 5, 12}\n",
      "3. {21, 7, 5, 19, 2, 3, 6, 16, 9, 0, 10, 4, 15, 11, 18, 12, 22, 8, 14, 23, 17}\n",
      "4. {13, 6, 16, 7, 5, 12, 18, 11, 23, 14, 19, 2, 3, 15, 4, 8, 9}\n",
      "5. {7, 16, 9, 8, 4, 14, 23, 10, 0, 22, 12, 18, 11, 15, 3}\n",
      "6. {13, 9, 3, 6, 16, 7, 15, 20, 5, 12, 18, 11, 23, 10, 4, 14, 8, 22}\n",
      "7. {21, 4, 14, 23, 11, 18, 12, 5, 16, 9, 13, 6}\n",
      "8. {4, 8, 14, 15, 11, 0, 9, 3, 2, 19, 5, 12, 23, 10}\n",
      "9. {0, 11, 18, 5, 20, 15, 7, 4, 14, 23, 10, 9, 16, 6, 3, 2}\n",
      "10. {12, 18, 5, 7, 16, 6, 3, 15, 14, 8, 22, 0, 9, 10, 23, 11}\n",
      "11. {6, 3, 2, 19, 14, 15, 4, 10, 0, 9, 22, 12, 23, 11, 18, 5, 16, 7}\n",
      "12. {4, 11, 18, 12, 23, 10, 0, 22, 9, 3, 15, 7, 5, 19, 14, 8}\n",
      "13. {12, 18, 11, 15, 3, 2, 19, 14, 8, 22, 9, 16, 5, 7, 21, 4, 10, 24, 0}\n",
      "14. {8, 16, 6, 3, 9, 0, 22, 12, 5, 20, 15, 7, 4, 10, 24}\n",
      "15. {12, 18, 5, 20, 15, 11, 4, 14, 8, 22, 9, 13, 6}\n",
      "16. {2, 19, 5, 16, 8, 4, 15, 11, 18, 12, 22, 0, 24, 10, 9, 13, 6, 3}\n",
      "17. {19, 2, 3, 9, 13, 6, 16, 5, 7, 21, 4, 11, 23, 14, 8, 22, 0}\n",
      "18. {2, 19, 5, 18, 12, 23, 14, 4, 8, 16, 6, 3, 15, 11, 0, 22, 9}\n",
      "19. {5, 18, 11, 23, 14, 19, 2, 3, 15, 4, 21, 7, 16, 6, 13, 9, 8, 22, 0, 24}\n",
      "20. {0, 22, 8, 16, 5, 12, 23, 10, 4, 21, 7, 15, 3}\n",
      "21. {3, 6, 13, 9, 8, 16, 7, 5, 20, 15, 14, 23, 11}\n",
      "22. {24, 0, 22, 12, 18, 11, 23, 14, 4, 7, 15, 20, 5, 19, 2, 3, 6}\n",
      "23. {9, 0, 24, 10, 23, 11, 18, 12, 22, 8, 14, 19, 5, 16, 7, 15, 4, 21}\n",
      "24. {11, 4, 21, 7, 5, 20, 15, 3, 6, 13, 9, 22, 0, 24, 10, 23, 12, 18}\n",
      "25. {8, 4, 21, 7, 5, 18, 11, 15, 14, 23, 12, 22, 9, 3}\n",
      "26. {15, 4, 11, 23, 10, 24, 0, 9, 3, 2, 19, 14, 8, 22, 12, 18, 5, 7, 16, 6}\n",
      "27. {23, 17}\n",
      "28. {5, 20, 15, 14, 8, 16, 7, 4, 11, 18, 12, 22, 9, 0, 24, 10, 23, 17}\n",
      "29. {2, 3, 6, 16, 9, 10, 23, 14, 15, 20, 5, 7, 21, 4, 11, 18, 12, 22, 0}\n",
      "30. {0, 10, 4, 21, 7, 15, 14, 8, 16, 5, 19, 2, 3, 6, 13, 9, 22, 12, 18}\n",
      "31. {2, 3, 6, 16, 9, 8, 4, 7, 15, 14, 19, 5, 18, 11}\n",
      "32. {23, 14, 19, 5, 7, 15, 4, 11, 0, 22, 9, 3, 6, 16, 8}\n",
      "33. {22, 9, 0, 11, 18, 12, 5, 19, 14, 4, 7, 16}\n",
      "34. {7, 16, 5, 19, 14, 23, 11, 0, 24, 10, 4, 15, 3, 2}\n",
      "35. {0, 11, 4, 15, 20, 5, 16, 6, 13, 9, 3, 2, 19, 14, 23, 10, 24}\n",
      "36. {8, 22, 0, 24, 10, 9, 13, 6, 3, 15, 11, 23, 14, 19, 5}\n",
      "37. {20, 15, 11, 18, 12, 5, 19, 2, 3, 6, 13, 9, 10, 0, 22}\n",
      "38. {21, 4, 14, 23, 11, 18, 12, 5, 16, 9, 13, 6}\n",
      "39. {4, 8, 14, 15, 11, 0, 9, 3, 2, 19, 5, 12, 23, 10}\n",
      "40. {10, 0, 11, 4, 14, 8, 9, 16, 6, 3, 2, 19, 5, 20}\n",
      "41. {10, 24, 0, 22, 12, 5, 19, 14, 23, 11, 4, 15, 7, 16, 6, 13, 9, 3}\n",
      "42. {11, 0, 24, 10, 4, 15, 3, 2, 19, 5, 7, 16, 8, 9, 22, 12, 23}\n",
      "43. {21, 7, 15, 3, 9, 8, 4, 14, 23, 10, 24, 0, 22, 12, 5, 16, 1}\n",
      "44. {4, 14, 15, 11, 0, 10, 23, 12, 18, 5, 7, 16, 6, 13, 9}\n",
      "45. {5, 18, 12, 22, 9, 10, 24, 0, 11, 4, 8, 14, 19, 2, 3, 15, 7, 16}\n",
      "46. {18, 5, 7, 4, 11, 0, 24, 10, 23, 14, 8, 22, 9}\n",
      "47. {14, 15, 20, 5, 7, 4, 10, 9, 0, 11}\n",
      "48. {2, 19, 14, 8, 16, 6, 3, 9, 10, 4, 7, 15, 20}\n",
      "49. {7, 15, 11, 18, 12, 22, 0, 24, 10, 23, 14, 8, 9, 3, 6, 16, 5, 19, 2}\n",
      "50. {16, 5, 20, 15, 7, 21, 4, 11, 18, 12, 23, 10, 0, 22, 8, 9, 3, 2, 19}\n",
      "51. {18, 12, 5, 19, 2, 3, 9, 13, 6, 16, 7, 21, 4, 10, 23, 14, 15, 11}\n",
      "52. {8, 16, 6, 3, 9, 0, 22, 12, 5, 20, 15, 7, 4, 10, 24}\n",
      "53. {12, 18, 5, 20, 15, 11, 4, 14, 8, 22, 9, 13, 6}\n",
      "54. {2, 19, 5, 16, 8, 4, 15, 11, 18, 12, 22, 0, 24, 10, 9, 13, 6, 3}\n",
      "55. {19, 2, 3, 9, 13, 6, 16, 5, 7, 21, 4, 11, 23, 14, 8, 22, 0}\n",
      "56. {2, 19, 5, 18, 12, 23, 14, 4, 8, 16, 6, 3, 15, 11, 0, 22, 9}\n",
      "57. {5, 18, 11, 23, 14, 19, 2, 3, 15, 4, 21, 7, 16, 6, 13, 9, 8, 22, 0, 24}\n",
      "58. {0, 22, 8, 16, 5, 12, 23, 10, 4, 21, 7, 15, 3}\n",
      "59. {3, 6, 13, 9, 8, 16, 7, 5, 20, 15, 14, 23, 11}\n",
      "60. {24, 0, 22, 12, 18, 11, 23, 14, 4, 7, 15, 20, 5, 19, 2, 3, 6}\n",
      "61. {9, 0, 24, 10, 23, 11, 18, 12, 22, 8, 14, 19, 5, 16, 7, 15, 4, 21}\n",
      "62. {11, 4, 21, 7, 5, 20, 15, 3, 6, 13, 9, 22, 0, 24, 10, 23, 12, 18}\n",
      "63. {8, 4, 21, 7, 5, 18, 11, 15, 14, 23, 12, 22, 9, 3}\n",
      "64. {15, 4, 11, 23, 10, 24, 0, 9, 3, 2, 19, 14, 8, 22, 12, 18, 5, 7, 16, 6}\n",
      "65. {23, 17}\n",
      "66. {5, 20, 15, 14, 8, 16, 7, 4, 11, 18, 12, 22, 9, 0, 24, 10, 23, 17}\n",
      "67. {2, 3, 6, 16, 9, 10, 23, 14, 15, 20, 5, 7, 21, 4, 11, 18, 12, 22, 0}\n",
      "68. {0, 10, 4, 21, 7, 15, 14, 8, 16, 5, 19, 2, 3, 6, 13, 9, 22, 12, 18}\n",
      "69. {2, 3, 6, 16, 9, 8, 4, 7, 15, 14, 19, 5, 18, 11}\n",
      "70. {23, 14, 19, 5, 7, 15, 4, 11, 0, 22, 9, 3, 6, 16, 8}\n",
      "71. {22, 9, 0, 11, 18, 12, 5, 19, 14, 4, 7, 16}\n",
      "72. {7, 16, 5, 19, 14, 23, 11, 0, 24, 10, 4, 15, 3, 2}\n",
      "73. {0, 11, 4, 15, 20, 5, 16, 6, 13, 9, 3, 2, 19, 14, 23, 10, 24}\n",
      "74. {8, 22, 0, 24, 10, 9, 13, 6, 3, 15, 11, 23, 14, 19, 5}\n",
      "75. {20, 15, 11, 18, 12, 5, 19, 2, 3, 6, 13, 9, 10, 0, 22}\n",
      "76. {21, 4, 14, 23, 11, 18, 12, 5, 16, 9, 13, 6}\n",
      "77. {4, 8, 14, 15, 11, 0, 9, 3, 2, 19, 5, 12, 23, 10}\n",
      "78. {10, 0, 11, 4, 14, 8, 9, 16, 6, 3, 2, 19, 5, 20}\n",
      "79. {10, 24, 0, 22, 12, 5, 19, 14, 23, 11, 4, 15, 7, 16, 6, 13, 9, 3}\n",
      "80. {11, 0, 24, 10, 4, 15, 3, 2, 19, 5, 7, 16, 8, 9, 22, 12, 23}\n",
      "81. {21, 7, 15, 3, 9, 8, 4, 14, 23, 10, 24, 0, 22, 12, 5, 16, 1}\n",
      "82. {4, 14, 15, 11, 0, 10, 23, 12, 18, 5, 7, 16, 6, 13, 9}\n",
      "83. {5, 18, 12, 22, 9, 10, 24, 0, 11, 4, 8, 14, 19, 2, 3\n"
     ]
    }
   ],
   "source": [
    "modified_response = openai.ChatCompletion.create(\n",
    "    model=\"gpt-3.5-turbo-1106\",\n",
    "    temperature=0.1,\n",
    "    messages=[\n",
    "        {\"role\": \"system\", \"content\": \"Think step by step.\"},\n",
    "        {\"role\": \"user\", \"content\": modified_prompt},\n",
    "    ],\n",
    ")\n",
    "modified_response = modified_response.choices[0].message.content\n",
    "print(modified_response)\n",
    "modified_prompt += modified_response"
   ]
  },
  {
   "cell_type": "code",
   "execution_count": 72,
   "metadata": {},
   "outputs": [
    {
     "name": "stdout",
     "output_type": "stream",
     "text": [
      "To find a popular path of length no more than 7 from node 0 to node 5, we can analyze the given paths to identify the most frequently used path within the specified length constraint. After reviewing the paths, we can see that the following path is popular and meets the length constraint:\n",
      "\n",
      "Path: 0 -> 9 -> 8 -> 16 -> 5\n"
     ]
    }
   ],
   "source": [
    "modified_prompt += \"Q: Find a popular path of length no more than 7 from 0 to 5. Only one path is enough \\nA: \"\n",
    "modified_response = openai.ChatCompletion.create(\n",
    "    model=\"gpt-3.5-turbo-1106\",\n",
    "    temperature=0.1,\n",
    "    messages=[\n",
    "        {\"role\": \"system\", \"content\": \"Think step by step.\"},\n",
    "        {\"role\": \"user\", \"content\": modified_prompt},\n",
    "    ],\n",
    ")\n",
    "modified_response = modified_response.choices[0].message.content\n",
    "print(modified_response)"
   ]
  },
  {
   "cell_type": "code",
   "execution_count": 73,
   "metadata": {},
   "outputs": [
    {
     "name": "stdout",
     "output_type": "stream",
     "text": [
      "(0, 9, 8, 16, 5)\n"
     ]
    }
   ],
   "source": [
    "modified_response += \"Q: Only write out the path from the response in this format (0, 1, 2, 3, 4, 5) \\nA: \"\n",
    "formatted_modified_response = openai.ChatCompletion.create(\n",
    "    model=\"gpt-3.5-turbo-1106\",\n",
    "    temperature=0.1,\n",
    "    messages=[\n",
    "        {\"role\": \"system\", \"content\": \"Think step by step.\"},\n",
    "        {\"role\": \"user\", \"content\": modified_response},\n",
    "    ],\n",
    ")\n",
    "formatted_modified_response = formatted_modified_response.choices[0].message.content\n",
    "print(formatted_modified_response)"
   ]
  },
  {
   "cell_type": "code",
   "execution_count": 35,
   "metadata": {},
   "outputs": [],
   "source": [
    "source = 0\n",
    "destination = 5\n",
    "all_paths = [path for path, freq in graph_path.items() for _ in range(freq)]\n",
    "paths = get_paths_and_subpaths(source, destination, all_paths)"
   ]
  },
  {
   "cell_type": "code",
   "execution_count": 74,
   "metadata": {},
   "outputs": [],
   "source": [
    "rec_path = eval(\"(0, 9, 8, 16, 5)\")"
   ]
  },
  {
   "cell_type": "code",
   "execution_count": 75,
   "metadata": {},
   "outputs": [
    {
     "name": "stdout",
     "output_type": "stream",
     "text": [
      "precision 1.0\n",
      "ground_dict {0: 197, 11: 81, 4: 57, 21: 22, 7: 41, 16: 37, 8: 63, 14: 75, 23: 66, 12: 96, 18: 73, 5: 197, 24: 40, 10: 70, 19: 58, 2: 31, 3: 54, 15: 65, 20: 26, 9: 68, 22: 72, 6: 26, 13: 17}\n",
      "recall 0.3668407310704961\n",
      "precision 1.0\n",
      "ground_dict {(0, 11): 46, (11, 4): 22, (4, 21): 22, (21, 7): 22, (7, 16): 15, (16, 8): 7, (8, 14): 30, (14, 23): 7, (23, 12): 20, (12, 18): 29, (18, 5): 46, (0, 24): 40, (24, 10): 40, (10, 23): 44, (23, 11): 28, (4, 14): 18, (14, 19): 33, (19, 2): 6, (2, 3): 6, (3, 15): 23, (15, 20): 26, (20, 5): 26, (0, 9): 40, (9, 3): 28, (3, 2): 25, (2, 19): 25, (19, 5): 45, (11, 18): 44, (9, 22): 14, (22, 12): 50, (12, 23): 8, (0, 22): 43, (22, 9): 3, (15, 7): 16, (7, 5): 10, (12, 5): 51, (22, 8): 19, (8, 16): 13, (16, 5): 19, (18, 11): 1, (11, 23): 7, (23, 14): 16, (14, 4): 3, (4, 7): 3, (7, 15): 11, (18, 12): 26, (12, 22): 8, (19, 14): 7, (14, 8): 23, (8, 22): 7, (0, 10): 28, (10, 4): 18, (15, 14): 4, (23, 10): 2, (10, 9): 8, (9, 8): 14, (14, 15): 9, (15, 4): 5, (8, 9): 9, (9, 16): 3, (16, 6): 11, (6, 3): 12, (4, 15): 14, (9, 13): 9, (13, 6): 9, (15, 11): 6, (11, 15): 8, (6, 13): 8, (13, 9): 8, (8, 4): 4, (15, 3): 8, (3, 6): 6, (6, 16): 6, (7, 4): 5}\n",
      "recall 0.06441947565543071\n",
      "F1 score: 0.5367717287488062\n",
      "Pairs F1 score: 0.1210415200562984\n"
     ]
    }
   ],
   "source": [
    "score_f1 = get_f1_score(rec_path, paths)\n",
    "score_pairs_f1 = get_pairs_f1_score(rec_path, paths)\n",
    "print(\"F1 score:\", score_f1)\n",
    "print(\"Pairs F1 score:\", score_pairs_f1)"
   ]
  },
  {
   "cell_type": "code",
   "execution_count": null,
   "metadata": {},
   "outputs": [],
   "source": []
  },
  {
   "cell_type": "markdown",
   "metadata": {},
   "source": [
    "results:\n",
    "1st trial:\n",
    "with prompt -> (0, 1, 11, 6, 14, 2, 5) \n",
    "score -> 0.15457960127130888\n",
    "without prompt -> (0, 1, 11, 5)\n",
    "score -> 0.09841029523088571\n",
    "\n",
    "2nd trial:\n"
   ]
  },
  {
   "cell_type": "markdown",
   "metadata": {},
   "source": []
  }
 ],
 "metadata": {
  "kernelspec": {
   "display_name": "environment",
   "language": "python",
   "name": "python3"
  },
  "language_info": {
   "codemirror_mode": {
    "name": "ipython",
    "version": 3
   },
   "file_extension": ".py",
   "mimetype": "text/x-python",
   "name": "python",
   "nbconvert_exporter": "python",
   "pygments_lexer": "ipython3",
   "version": "3.10.12"
  }
 },
 "nbformat": 4,
 "nbformat_minor": 2
}
